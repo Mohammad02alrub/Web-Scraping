{
 "cells": [
  {
   "cell_type": "code",
   "execution_count": 1,
   "id": "c83b5ffa",
   "metadata": {},
   "outputs": [],
   "source": [
    "import pandas as pd \n",
    "from bs4 import BeautifulSoup\n",
    "import requests\n",
    "import re"
   ]
  },
  {
   "cell_type": "code",
   "execution_count": 4,
   "id": "c6fa235c",
   "metadata": {},
   "outputs": [],
   "source": [
    "def define_url(checkin, checkout, adult, room, child):\n",
    "    url = f\"https://www.booking.com/searchresults.html?ss=Jordan&ssne=Jordan&ssne_untouched=Jordan&label=gen173nr-1FCAEoggI46AdIM1gEaHSIAQGYATG4ARfIAQzYAQHoAQH4AQKIAgGoAgO4Aorpla0GwAIB0gIkYWZkMWIxYTktNmE2Ny00MWU5LWExNWQtYzNlNDE5YzM3YjRh2AIF4AIB&sid=91e9df014d2c393cb40bdee65ae2a67a&aid=304142&lang=en-us&sb=1&src_elem=sb&src=searchresults&latitude=31.97299&longitude=35.90846&checkin={checkin}&checkout={checkout}&group_adults={adult}&no_rooms={room}&group_children={child}&offset=0\"\n",
    "    return url"
   ]
  },
  {
   "cell_type": "code",
   "execution_count": 5,
   "id": "e81f963d",
   "metadata": {},
   "outputs": [
    {
     "data": {
      "text/plain": [
       "'https://www.booking.com/searchresults.html?ss=Jordan&ssne=Jordan&ssne_untouched=Jordan&label=gen173nr-1FCAEoggI46AdIM1gEaHSIAQGYATG4ARfIAQzYAQHoAQH4AQKIAgGoAgO4Aorpla0GwAIB0gIkYWZkMWIxYTktNmE2Ny00MWU5LWExNWQtYzNlNDE5YzM3YjRh2AIF4AIB&sid=91e9df014d2c393cb40bdee65ae2a67a&aid=304142&lang=en-us&sb=1&src_elem=sb&src=searchresults&latitude=31.97299&longitude=35.90846&checkin=2024-03-01&checkout=2024-03-30&group_adults=2&no_rooms=1&group_children=0&offset=0'"
      ]
     },
     "execution_count": 5,
     "metadata": {},
     "output_type": "execute_result"
    }
   ],
   "source": [
    "link = define_url('2024-03-01', '2024-03-30', 2, 1, 0)\n",
    "\n",
    "link"
   ]
  },
  {
   "cell_type": "code",
   "execution_count": 24,
   "id": "31d102b1",
   "metadata": {
    "scrolled": false
   },
   "outputs": [
    {
     "name": "stderr",
     "output_type": "stream",
     "text": [
      "C:\\Users\\User\\AppData\\Local\\Temp\\ipykernel_27384\\364685651.py:68: DeprecationWarning: executable_path has been deprecated, please pass in a Service object\n",
      "  driver = webdriver.Firefox(executable_path=webdriver_path)\n"
     ]
    }
   ],
   "source": [
    "from selenium import webdriver\n",
    "from selenium.webdriver.common.by import By\n",
    "from selenium.webdriver.support.ui import WebDriverWait\n",
    "from selenium.webdriver.support import expected_conditions as EC\n",
    "from selenium.common.exceptions import StaleElementReferenceException\n",
    "import time \n",
    "\n",
    "def get_element(parent, driver, xpath):\n",
    "    for i in range(2):\n",
    "        try: \n",
    "            WebDriverWait(driver, 5, ignored_exceptions=StaleElementReferenceException).until(\n",
    "    EC.presence_of_element_located((By.XPATH, xpath))\n",
    "    )\n",
    "            el = parent.find_element(By.XPATH, xpath)\n",
    "            driver.execute_script(\"arguments[0].scrollIntoView(true);\", el)\n",
    "            return el\n",
    "        except:\n",
    "            pass\n",
    "\n",
    "names = []\n",
    "locations = []\n",
    "prices = []\n",
    "ratings = []\n",
    "reviews = []\n",
    "\n",
    "def extract_hotel_info(hotel_element, driver):\n",
    "    \n",
    "    # Extracting hotel name\n",
    "    name = get_element(hotel_element, driver, './/div[@data-testid=\"title\"]').text\n",
    "    names.append(name)\n",
    "    \n",
    "    # Extracting hotel location\n",
    "    try:\n",
    "        location = get_element(hotel_element, driver, './/span[@data-testid=\"address\"]').text\n",
    "        locations.append(location)\n",
    "    except:\n",
    "        location = 'Not found'\n",
    "        locations.append(location)\n",
    "    \n",
    "    # Extracting hotel price\n",
    "    price_xpath = './/span[@data-testid=\"price-and-discounted-price\"]'\n",
    "    price = get_element(hotel_element, driver, price_xpath).text.replace('JOD','')\n",
    "    prices.append(price)\n",
    "    \n",
    "    #Extracting hotel rating\n",
    "    try:\n",
    "        rating = get_element(hotel_element, driver, './/div[@class=\"a3b8729ab1 d86cee9b25\"]').text\n",
    "        ratings.append(rating)\n",
    "    except:\n",
    "        rating = \"No Rating\"\n",
    "        ratings.append(rating)\n",
    "    \n",
    "    #Extracting hotel reviews\n",
    "    try:\n",
    "        review = get_element(hotel_element, driver, './/div[@class=\"abf093bdfe f45d8e4c32 d935416c47\"]').text.replace('reviews', '')\n",
    "        reviews.append(review)\n",
    "    except:\n",
    "        review = \"No Reviews\"\n",
    "        reviews.append(review)\n",
    "    \n",
    "\n",
    "def main():\n",
    "    global link\n",
    "    # Set the path to your WebDriver (e.g., chromedriver.exe)\n",
    "    webdriver_path = 'D:/selenium/geckodriver.exe'\n",
    "\n",
    "    # Initialize the Chrome browser\n",
    "    driver = webdriver.Firefox(executable_path=webdriver_path)\n",
    "\n",
    "    try:\n",
    "        link = link.replace('offset=0', 'offset={}')\n",
    "\n",
    "        hotels_data = []\n",
    "\n",
    "        for i in range(0, 40):\n",
    "            url = link.format(i*25)\n",
    "\n",
    "            driver.get(url)\n",
    "            time.sleep(5)\n",
    "            # Replace 'hotel_elements_xpath' with the XPath that identifies each hotel in the list\n",
    "            hotel_elements = driver.find_elements(By.XPATH, '//div[@aria-label=\"Property\"]')\n",
    "            try:\n",
    "                el = driver.find_element(By.XPATH, \"//div[@aria-label='Dismiss sign-in info.']\")\n",
    "                el.click()\n",
    "            except:\n",
    "                pass\n",
    "            for hotel_element in hotel_elements:\n",
    "                # Extract information from each hotel element\n",
    "                try:\n",
    "                    extract_hotel_info(hotel_element, driver)\n",
    "                except AttributeError as e:\n",
    "                    print(e)\n",
    "                    print(hotel_element)\n",
    "                    \n",
    "            \n",
    "\n",
    "    finally:\n",
    "        # Close the browser window when done\n",
    "        driver.quit()\n",
    "\n",
    "if __name__ == \"__main__\":\n",
    "    main()"
   ]
  },
  {
   "cell_type": "code",
   "execution_count": 25,
   "id": "8cf0fec4",
   "metadata": {},
   "outputs": [
    {
     "data": {
      "text/html": [
       "<div>\n",
       "<style scoped>\n",
       "    .dataframe tbody tr th:only-of-type {\n",
       "        vertical-align: middle;\n",
       "    }\n",
       "\n",
       "    .dataframe tbody tr th {\n",
       "        vertical-align: top;\n",
       "    }\n",
       "\n",
       "    .dataframe thead th {\n",
       "        text-align: right;\n",
       "    }\n",
       "</style>\n",
       "<table border=\"1\" class=\"dataframe\">\n",
       "  <thead>\n",
       "    <tr style=\"text-align: right;\">\n",
       "      <th></th>\n",
       "      <th>Name</th>\n",
       "      <th>Location</th>\n",
       "      <th>Reviews</th>\n",
       "      <th>Rating</th>\n",
       "      <th>Price</th>\n",
       "    </tr>\n",
       "  </thead>\n",
       "  <tbody>\n",
       "    <tr>\n",
       "      <th>0</th>\n",
       "      <td>Amman Marriott Hotel</td>\n",
       "      <td>Amman</td>\n",
       "      <td>813</td>\n",
       "      <td>8.4</td>\n",
       "      <td>2,781</td>\n",
       "    </tr>\n",
       "    <tr>\n",
       "      <th>1</th>\n",
       "      <td>Regency Palace Amman</td>\n",
       "      <td>Amman</td>\n",
       "      <td>2,244</td>\n",
       "      <td>8.0</td>\n",
       "      <td>2,610</td>\n",
       "    </tr>\n",
       "    <tr>\n",
       "      <th>2</th>\n",
       "      <td>Corp Amman Hotel</td>\n",
       "      <td>Amman</td>\n",
       "      <td>1,874</td>\n",
       "      <td>8.6</td>\n",
       "      <td>1,549</td>\n",
       "    </tr>\n",
       "    <tr>\n",
       "      <th>3</th>\n",
       "      <td>Grand Hotel</td>\n",
       "      <td>Amman</td>\n",
       "      <td>No Reviews</td>\n",
       "      <td>No Rating</td>\n",
       "      <td>1,835</td>\n",
       "    </tr>\n",
       "    <tr>\n",
       "      <th>4</th>\n",
       "      <td>الاردن عمان الشميساني</td>\n",
       "      <td>Amman</td>\n",
       "      <td>4</td>\n",
       "      <td>3.2</td>\n",
       "      <td>838</td>\n",
       "    </tr>\n",
       "  </tbody>\n",
       "</table>\n",
       "</div>"
      ],
      "text/plain": [
       "                    Name Location     Reviews     Rating   Price\n",
       "0   Amman Marriott Hotel    Amman        813         8.4   2,781\n",
       "1   Regency Palace Amman    Amman      2,244         8.0   2,610\n",
       "2       Corp Amman Hotel    Amman      1,874         8.6   1,549\n",
       "3            Grand Hotel    Amman  No Reviews  No Rating   1,835\n",
       "4  الاردن عمان الشميساني    Amman          4         3.2     838"
      ]
     },
     "execution_count": 25,
     "metadata": {},
     "output_type": "execute_result"
    }
   ],
   "source": [
    "hotels = pd.DataFrame({'Name': names, 'Location': locations,'Reviews': reviews, 'Rating': ratings, 'Price': prices})\n",
    "hotels.head()"
   ]
  },
  {
   "cell_type": "code",
   "execution_count": null,
   "id": "86009f89",
   "metadata": {},
   "outputs": [],
   "source": []
  }
 ],
 "metadata": {
  "kernelspec": {
   "display_name": "Python 3 (ipykernel)",
   "language": "python",
   "name": "python3"
  },
  "language_info": {
   "codemirror_mode": {
    "name": "ipython",
    "version": 3
   },
   "file_extension": ".py",
   "mimetype": "text/x-python",
   "name": "python",
   "nbconvert_exporter": "python",
   "pygments_lexer": "ipython3",
   "version": "3.9.13"
  }
 },
 "nbformat": 4,
 "nbformat_minor": 5
}
